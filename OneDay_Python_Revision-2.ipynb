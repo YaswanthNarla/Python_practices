{
 "cells": [
  {
   "cell_type": "markdown",
   "id": "10858410",
   "metadata": {},
   "source": [
    "# 🐍 One-Day Python Revision Plan\n",
    "### From Basics to Intermediate - Interview Ready"
   ]
  },
  {
   "cell_type": "markdown",
   "id": "1a48266d",
   "metadata": {},
   "source": [
    "Each section contains:\n",
    "- 🧠 **Concept Recap**\n",
    "- 🛠️ **Mini Task**\n",
    "- 🧪 **Practice**"
   ]
  },
  {
   "cell_type": "markdown",
   "id": "5988747b",
   "metadata": {},
   "source": [
    "## 🕗 Hour 1: Python Foundations"
   ]
  },
  {
   "cell_type": "markdown",
   "id": "05944464",
   "metadata": {},
   "source": [
    "**Concepts:** Variables, Data Types, Typecasting, Input/Output"
   ]
  },
  {
   "cell_type": "code",
   "execution_count": null,
   "id": "0ffa670a",
   "metadata": {},
   "outputs": [],
   "source": [
    "# 🛠️ Task: Greet user with their name and age\n",
    "name = input(\"Enter your name: \")\n",
    "age = int(input(\"Enter your age: \"))\n",
    "print(f\"Hello {name}, you are {age} years old!\")"
   ]
  },
  {
   "cell_type": "code",
   "execution_count": null,
   "id": "ad1266fa",
   "metadata": {},
   "outputs": [],
   "source": [
    "# 🧪 Practice: Predict the output\n",
    "a = input(\"Enter a number: \")\n",
    "print(a + a)  # Note: input() returns string by default"
   ]
  },
  {
   "cell_type": "markdown",
   "id": "e0ca88e0",
   "metadata": {},
   "source": [
    "## 🕘 Hour 2: Control Flow (if, elif, else)"
   ]
  },
  {
   "cell_type": "code",
   "execution_count": null,
   "id": "89183111",
   "metadata": {},
   "outputs": [],
   "source": [
    "# 🛠️ Task: Simple grading system\n",
    "marks = int(input(\"Enter your marks: \"))\n",
    "if marks >= 90:\n",
    "    print(\"Grade: A\")\n",
    "elif marks >= 75:\n",
    "    print(\"Grade: B\")\n",
    "elif marks >= 60:\n",
    "    print(\"Grade: C\")\n",
    "else:\n",
    "    print(\"Grade: F\")"
   ]
  },
  {
   "cell_type": "code",
   "execution_count": null,
   "id": "dbaaf8f8",
   "metadata": {},
   "outputs": [],
   "source": [
    "# 🧪 Practice: What will be printed?\n",
    "x = 20\n",
    "if x > 10:\n",
    "    if x < 30:\n",
    "        print(\"In range\")\n",
    "    else:\n",
    "        print(\"Too high\")"
   ]
  },
  {
   "cell_type": "markdown",
   "id": "87da19e8",
   "metadata": {},
   "source": [
    "## 🕙 Hour 3: Loops (for, while)"
   ]
  },
  {
   "cell_type": "code",
   "execution_count": null,
   "id": "1c60e701",
   "metadata": {},
   "outputs": [],
   "source": [
    "# 🛠️ Task: First 10 Fibonacci numbers\n",
    "a, b = 0, 1\n",
    "for _ in range(10):\n",
    "    print(a, end=' ')\n",
    "    a, b = b, a + b"
   ]
  },
  {
   "cell_type": "code",
   "execution_count": null,
   "id": "009a5db1",
   "metadata": {},
   "outputs": [],
   "source": [
    "# 🧪 Practice: Identify and fix bug\n",
    "i = 1\n",
    "while i < 5:\n",
    "    print(i)\n",
    "    i += 1\n",
    "    if i == 3:\n",
    "        break"
   ]
  },
  {
   "cell_type": "markdown",
   "id": "ce45f4d8",
   "metadata": {},
   "source": [
    "## 🕚 Hour 4: Functions"
   ]
  },
  {
   "cell_type": "code",
   "execution_count": null,
   "id": "9ab5b631",
   "metadata": {},
   "outputs": [],
   "source": [
    "# 🛠️ Task: Basic Calculator\n",
    "def calculator(a, b, op):\n",
    "    if op == '+': return a + b\n",
    "    elif op == '-': return a - b\n",
    "    elif op == '*': return a * b\n",
    "    elif op == '/': return a / b\n",
    "    else: return \"Invalid operation\"\n",
    "\n",
    "print(calculator(10, 2, '*'))"
   ]
  },
  {
   "cell_type": "code",
   "execution_count": null,
   "id": "2f2b10c9",
   "metadata": {},
   "outputs": [],
   "source": [
    "# 🧪 Practice: *args demo\n",
    "def add(*args):\n",
    "    return sum(args)\n",
    "print(add(1, 2, 3))"
   ]
  },
  {
   "cell_type": "markdown",
   "id": "de27816a",
   "metadata": {},
   "source": [
    "## 🕛 Hour 5: Data Structures - List, Tuple, Set, Dict"
   ]
  },
  {
   "cell_type": "code",
   "execution_count": null,
   "id": "b6958f42",
   "metadata": {},
   "outputs": [],
   "source": [
    "# 🛠️ Task: Remove duplicates from list\n",
    "my_list = [1, 2, 2, 3, 3, 4]\n",
    "unique = list(set(my_list))\n",
    "print(unique)"
   ]
  },
  {
   "cell_type": "code",
   "execution_count": null,
   "id": "8dd71b6d",
   "metadata": {},
   "outputs": [],
   "source": [
    "# 🛠️ Task: Simple phonebook\n",
    "phonebook = {\"Alice\": \"123\", \"Bob\": \"456\"}\n",
    "print(phonebook.get(\"Charlie\", \"Not Found\"))"
   ]
  },
  {
   "cell_type": "markdown",
   "id": "b030a75a",
   "metadata": {},
   "source": [
    "## 🕐 Hour 6: Comprehensions & Lambda"
   ]
  },
  {
   "cell_type": "code",
   "execution_count": null,
   "id": "9afa860c",
   "metadata": {},
   "outputs": [],
   "source": [
    "# 🛠️ Task: Square even numbers from 1-20\n",
    "squares = [x**2 for x in range(1, 21) if x % 2 == 0]\n",
    "print(squares)"
   ]
  },
  {
   "cell_type": "code",
   "execution_count": null,
   "id": "e3b6188e",
   "metadata": {},
   "outputs": [],
   "source": [
    "# 🧪 Practice: Using map with lambda\n",
    "nums = [1, 2, 3, 4]\n",
    "print(list(map(lambda x: x*2, nums)))"
   ]
  },
  {
   "cell_type": "markdown",
   "id": "8f34ab1a",
   "metadata": {},
   "source": [
    "## 🕑 Hour 7: Error Handling"
   ]
  },
  {
   "cell_type": "code",
   "execution_count": null,
   "id": "05d6bfbd",
   "metadata": {},
   "outputs": [],
   "source": [
    "# 🛠️ Task: Handle division by zero\n",
    "try:\n",
    "    a = int(input(\"Enter numerator: \"))\n",
    "    b = int(input(\"Enter denominator: \"))\n",
    "    print(\"Result:\", a / b)\n",
    "except ZeroDivisionError:\n",
    "    print(\"Cannot divide by zero!\")"
   ]
  },
  {
   "cell_type": "markdown",
   "id": "db076108",
   "metadata": {},
   "source": [
    "## 🕒 Hour 8: OOP Basics"
   ]
  },
  {
   "cell_type": "code",
   "execution_count": null,
   "id": "0c93c00c",
   "metadata": {},
   "outputs": [],
   "source": [
    "# 🛠️ Task: Car class\n",
    "class Car:\n",
    "    def __init__(self, brand, year):\n",
    "        self.brand = brand\n",
    "        self.year = year\n",
    "\n",
    "    def display(self):\n",
    "        print(f\"Brand: {self.brand}, Year: {self.year}\")\n",
    "\n",
    "my_car = Car(\"Toyota\", 2020)\n",
    "my_car.display()"
   ]
  },
  {
   "cell_type": "markdown",
   "id": "d30715a4",
   "metadata": {},
   "source": [
    "## 🕓 Hour 9: File Handling"
   ]
  },
  {
   "cell_type": "code",
   "execution_count": null,
   "id": "967d9503",
   "metadata": {},
   "outputs": [],
   "source": [
    "# 🛠️ Task: Count lines in a file\n",
    "with open(\"sample.txt\", \"r\") as file:\n",
    "    lines = file.readlines()\n",
    "    print(\"Line Count:\", len(lines))"
   ]
  },
  {
   "cell_type": "markdown",
   "id": "5af8f784",
   "metadata": {},
   "source": [
    "## 🕔 Hour 10: Practice & Debugging Sprint"
   ]
  },
  {
   "cell_type": "code",
   "execution_count": null,
   "id": "37b1a133",
   "metadata": {},
   "outputs": [],
   "source": [
    "# Final Task\n",
    "# Read numbers from file, get average of evens, write to another file\n",
    "try:\n",
    "    with open(\"numbers.txt\", \"r\") as f:\n",
    "        nums = [int(line.strip()) for line in f]\n",
    "        evens = [x for x in nums if x % 2 == 0]\n",
    "        avg = sum(evens) / len(evens)\n",
    "\n",
    "    with open(\"result.txt\", \"w\") as f_out:\n",
    "        f_out.write(f\"Average of even numbers: {avg}\")\n",
    "\n",
    "    print(\"Task completed successfully!\")\n",
    "except Exception as e:\n",
    "    print(\"Error:\", e)"
   ]
  },
  {
   "cell_type": "code",
   "execution_count": null,
   "id": "4ea6a296",
   "metadata": {},
   "outputs": [],
   "source": [
    "def add(a,b):\n",
    "    x = a+b\n",
    "    return(x)\n",
    "    \n",
    "ans = add(2,3)\n",
    "print(ans)"
   ]
  },
  {
   "cell_type": "code",
   "execution_count": null,
   "id": "5615d9f9",
   "metadata": {},
   "outputs": [],
   "source": []
  },
  {
   "cell_type": "code",
   "execution_count": null,
   "id": "882307be",
   "metadata": {},
   "outputs": [],
   "source": []
  }
 ],
 "metadata": {
  "kernelspec": {
   "display_name": "Python 3 (ipykernel)",
   "language": "python",
   "name": "python3"
  },
  "language_info": {
   "codemirror_mode": {
    "name": "ipython",
    "version": 3
   },
   "file_extension": ".py",
   "mimetype": "text/x-python",
   "name": "python",
   "nbconvert_exporter": "python",
   "pygments_lexer": "ipython3",
   "version": "3.11.5"
  }
 },
 "nbformat": 4,
 "nbformat_minor": 5
}
