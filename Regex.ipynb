{
 "cells": [
  {
   "cell_type": "code",
   "execution_count": 3,
   "id": "6f3f663e",
   "metadata": {},
   "outputs": [],
   "source": [
    "# Here we imported regex library, this regex we used for search or \"Sub-Strings\"/\"Patterns\" in a string. \n",
    "\n",
    "import re \n",
    "\n",
    "match  = re.search(\"Ramesh\", \"Ramesh is an exceptional student!\")\n",
    "\n",
    "#Syntax: #re.search(\"string\",\"Sub-string\")"
   ]
  },
  {
   "cell_type": "code",
   "execution_count": 4,
   "id": "3cf3b87e",
   "metadata": {},
   "outputs": [
    {
     "data": {
      "text/plain": [
       "'Ramesh'"
      ]
     },
     "execution_count": 4,
     "metadata": {},
     "output_type": "execute_result"
    }
   ],
   "source": [
    "match.group()"
   ]
  },
  {
   "cell_type": "code",
   "execution_count": 6,
   "id": "d849736a",
   "metadata": {},
   "outputs": [],
   "source": [
    "text = \"Learning regex with python is fun!\"\n",
    "\n",
    "\n",
    "pattern = r\"python\"\n",
    "\n"
   ]
  },
  {
   "cell_type": "code",
   "execution_count": 7,
   "id": "5491aee4",
   "metadata": {},
   "outputs": [
    {
     "name": "stdout",
     "output_type": "stream",
     "text": [
      "Match Found!\n"
     ]
    }
   ],
   "source": [
    "\n",
    "match = re.search(pattern,text, re.IGNORECASE)\n",
    "\n",
    "if match:\n",
    "    print(\"Match Found!\")\n",
    "else:\n",
    "    print(\"Match not Found!\")"
   ]
  },
  {
   "cell_type": "markdown",
   "id": "e138b5ff",
   "metadata": {},
   "source": [
    "## Quantifiers"
   ]
  },
  {
   "cell_type": "markdown",
   "id": "3ffb179b",
   "metadata": {},
   "source": [
    "# ? - Zero or more occurances of preceeding character of group\n",
    "# * - 0 or 1/more \"\n",
    "# + - one or more \"\n",
    "# {m,n} - min(m) to max(n)\n",
    "# Match one or more 'ha'   --> use n+ pattern\n"
   ]
  },
  {
   "cell_type": "code",
   "execution_count": 11,
   "id": "a3fd486b",
   "metadata": {},
   "outputs": [
    {
     "data": {
      "text/plain": [
       "['aaa', '', '', '', 'aa', '', 'aaaaaa', '', '', '']"
      ]
     },
     "execution_count": 11,
     "metadata": {},
     "output_type": "execute_result"
    }
   ],
   "source": [
    "pattern = r\"a*\"\n",
    "\n",
    "text = \"aaa b aa aaaaaa c\"\n",
    "\n",
    "re.findall(pattern,text)"
   ]
  },
  {
   "cell_type": "markdown",
   "id": "eaa48342",
   "metadata": {},
   "source": [
    "# (+) Pattern"
   ]
  },
  {
   "cell_type": "code",
   "execution_count": 13,
   "id": "6775bb6a",
   "metadata": {},
   "outputs": [
    {
     "data": {
      "text/plain": [
       "['good']"
      ]
     },
     "execution_count": 13,
     "metadata": {},
     "output_type": "execute_result"
    }
   ],
   "source": [
    "pattern = f'good+'\n",
    "\n",
    "text = \"Today is a good day\"\n",
    "\n",
    "re.findall(pattern,text)"
   ]
  },
  {
   "cell_type": "code",
   "execution_count": 14,
   "id": "df94cb8c",
   "metadata": {},
   "outputs": [
    {
     "data": {
      "text/plain": [
       "['a',\n",
       " 'a',\n",
       " 'a',\n",
       " '',\n",
       " '',\n",
       " '',\n",
       " 'a',\n",
       " 'a',\n",
       " 'a',\n",
       " '',\n",
       " 'a',\n",
       " 'a',\n",
       " 'a',\n",
       " 'a',\n",
       " 'a',\n",
       " '',\n",
       " 'a',\n",
       " 'a',\n",
       " 'a',\n",
       " '',\n",
       " 'a',\n",
       " '',\n",
       " '',\n",
       " '',\n",
       " '',\n",
       " '']"
      ]
     },
     "execution_count": 14,
     "metadata": {},
     "output_type": "execute_result"
    }
   ],
   "source": [
    "pattern = r'a?'\n",
    "\n",
    "text = 'aaa b aaa aaaaa aaa a cxc'\n",
    "\n",
    "re.findall(pattern,text)"
   ]
  },
  {
   "cell_type": "markdown",
   "id": "9090f7cf",
   "metadata": {},
   "source": [
    "# {m,n} - pattern"
   ]
  },
  {
   "cell_type": "code",
   "execution_count": 17,
   "id": "82f764f0",
   "metadata": {},
   "outputs": [
    {
     "data": {
      "text/plain": [
       "['aa', 'aaa', 'aaaaa']"
      ]
     },
     "execution_count": 17,
     "metadata": {},
     "output_type": "execute_result"
    }
   ],
   "source": [
    "pattern = r'a{2,5}'\n",
    "\n",
    "text = \"a aa aaa aaaaaa\"\n",
    "\n",
    "re.findall(pattern,text)"
   ]
  },
  {
   "cell_type": "markdown",
   "id": "3bc3a6e1",
   "metadata": {},
   "source": [
    "# {n} -"
   ]
  },
  {
   "cell_type": "code",
   "execution_count": 19,
   "id": "d1144407",
   "metadata": {},
   "outputs": [
    {
     "data": {
      "text/plain": [
       "['aa', 'aa']"
      ]
     },
     "execution_count": 19,
     "metadata": {},
     "output_type": "execute_result"
    }
   ],
   "source": [
    "pattern = r'a{2}'\n",
    "\n",
    "text  = \"Hpe you aare having aa fine day\"\n",
    "\n",
    "re.findall(pattern,text)"
   ]
  },
  {
   "cell_type": "markdown",
   "id": "6c2e30aa",
   "metadata": {},
   "source": [
    "### Find an product name"
   ]
  },
  {
   "cell_type": "code",
   "execution_count": 20,
   "id": "79070e69",
   "metadata": {},
   "outputs": [
    {
     "data": {
      "text/plain": [
       "('PRD', 'PRD1', 'PRD1111')"
      ]
     },
     "execution_count": 20,
     "metadata": {},
     "output_type": "execute_result"
    }
   ],
   "source": [
    "\"PRD\",\"PRD1\",\"PRD1111\""
   ]
  },
  {
   "cell_type": "code",
   "execution_count": 27,
   "id": "78f1cd73",
   "metadata": {},
   "outputs": [
    {
     "data": {
      "text/plain": [
       "['PRD', 'PRD1', 'PRD1111']"
      ]
     },
     "execution_count": 27,
     "metadata": {},
     "output_type": "execute_result"
    }
   ],
   "source": [
    "pattern = r'PRD1*'\n",
    "\n",
    "text = \"PRD PRD1 PRD1111 Product\"\n",
    "\n",
    "re.findall(pattern,text)"
   ]
  },
  {
   "cell_type": "markdown",
   "id": "f5e301eb",
   "metadata": {},
   "source": [
    "# Match http and https urls"
   ]
  },
  {
   "cell_type": "code",
   "execution_count": 30,
   "id": "71cf7026",
   "metadata": {},
   "outputs": [
    {
     "data": {
      "text/plain": [
       "['http', 'http']"
      ]
     },
     "execution_count": 30,
     "metadata": {},
     "output_type": "execute_result"
    }
   ],
   "source": [
    "text = \"http https ftp\"\n",
    "\n",
    "pattern = r'http?'\n",
    "\n",
    "re.findall(pattern,text)"
   ]
  },
  {
   "cell_type": "raw",
   "id": "8c363b64",
   "metadata": {},
   "source": [
    "| Pattern | Meaning                              | Example Match                                  |       |                                     |\n",
    "| ------- | ------------------------------------ | ---------------------------------------------- | ----- | ----------------------------------- |\n",
    "| `.`     | Any character (except newline)       | `a.b` matches `acb`, `a7b`, etc.               |       |                                     |\n",
    "| `*`     | 0 or more of the preceding           | `lo*l` matches `ll`, `lol`, `lool`             |       |                                     |\n",
    "| `+`     | 1 or more of the preceding           | `go+gle` matches `google`, `gooogle`           |       |                                     |\n",
    "| `?`     | 0 or 1 of the preceding              | `colou?r` matches `color` or `colour`          |       |                                     |\n",
    "| `[]`    | Match any 1 character inside         | `[aeiou]` matches any vowel                    |       |                                     |\n",
    "| `[^]`   | Not any of the characters            | `[^0-9]` means non-digit                       |       |                                     |\n",
    "| `\\d`    | Digit (0–9)                          | Matches `3`, `7`, `0`                          |       |                                     |\n",
    "| `\\w`    | Word character (letters, digits, \\_) | Matches `a`, `z`, `9`, `_`                     |       |                                     |\n",
    "| `\\s`    | Whitespace                           | Matches space, tab, newline                    |       |                                     |\n",
    "| `^`     | Start of string                      | `^Hello` matches strings starting with \"Hello\" |       |                                     |\n",
    "| `$`     | End of string                        | `world$` matches strings ending with \"world\"   |       |                                     |\n",
    "| \\`      | \\`                                   | OR                                             | \\`cat | dog\\` matches either \"cat\" or \"dog\" |\n",
    "| `()`    | Grouping                             | `(ab)+` matches `ab`, `abab`, etc.             |       |                                     |\n"
   ]
  },
  {
   "cell_type": "markdown",
   "id": "f3d3f45a",
   "metadata": {},
   "source": [
    "### Match phone extensions with 2 to 4 dights(use{n,})"
   ]
  },
  {
   "cell_type": "code",
   "execution_count": 32,
   "id": "61bb1eea",
   "metadata": {},
   "outputs": [
    {
     "data": {
      "text/plain": [
       "['12', '123', '1234', '1234']"
      ]
     },
     "execution_count": 32,
     "metadata": {},
     "output_type": "execute_result"
    }
   ],
   "source": [
    "text = \"1 12 123 1234 12345\"\n",
    "\n",
    "pattern = r'\\d{2,4}'\n",
    "\n",
    "re.findall(pattern,text)"
   ]
  },
  {
   "cell_type": "markdown",
   "id": "002225ca",
   "metadata": {},
   "source": [
    "# Validate password with 3-10 letters. (using{m,n})"
   ]
  },
  {
   "cell_type": "code",
   "execution_count": 34,
   "id": "d638558f",
   "metadata": {},
   "outputs": [
    {
     "data": {
      "text/plain": [
       "['fyuhjhvfdy', 'yyy', 'fuefuye', 'heruif', 'weyugfyuge']"
      ]
     },
     "execution_count": 34,
     "metadata": {},
     "output_type": "execute_result"
    }
   ],
   "source": [
    "text = \"fyuhjhvfdy yyy fuefuye heruif weyugfyuger h k uu\"\n",
    "\n",
    "pattern  = r'[a-zA-Z]{3,10}'\n",
    "\n",
    "re.findall(pattern,text)"
   ]
  },
  {
   "cell_type": "markdown",
   "id": "92929d26",
   "metadata": {},
   "source": [
    "## Detect Laughter like haha, hahhahahaha - Detect the repetitions of ha"
   ]
  },
  {
   "cell_type": "code",
   "execution_count": 38,
   "id": "509a6cdc",
   "metadata": {},
   "outputs": [
    {
     "data": {
      "text/plain": [
       "['ha', 'ha', 'ha']"
      ]
     },
     "execution_count": 38,
     "metadata": {},
     "output_type": "execute_result"
    }
   ],
   "source": [
    "# Match one or more 'ha'   --> use n+ pattern\n",
    "\n",
    "text = \"haha hahahahaha hahaha\"\n",
    "\n",
    "pattern = '(ha)+'     # \"n+\"\n",
    "\n",
    "re.findall(pattern, text)"
   ]
  },
  {
   "cell_type": "markdown",
   "id": "66e3e205",
   "metadata": {},
   "source": [
    "### Match HTML tags like text use(*?)"
   ]
  },
  {
   "cell_type": "code",
   "execution_count": 40,
   "id": "ca82c4fa",
   "metadata": {},
   "outputs": [
    {
     "data": {
      "text/plain": [
       "['<b>', '</b? <i>', '</i>']"
      ]
     },
     "execution_count": 40,
     "metadata": {},
     "output_type": "execute_result"
    }
   ],
   "source": [
    "text  =  \"<b>text</b? <i>italic</i>\"\n",
    "\n",
    "pattern = f'<.*?>'\n",
    "\n",
    "re.findall(pattern,text)"
   ]
  },
  {
   "cell_type": "code",
   "execution_count": 45,
   "id": "4770d2c0",
   "metadata": {},
   "outputs": [
    {
     "data": {
      "text/plain": [
       "<re.Match object; span=(11, 20), match='important'>"
      ]
     },
     "execution_count": 45,
     "metadata": {},
     "output_type": "execute_result"
    }
   ],
   "source": [
    "# Extract/Find a specific word using 'Search'  --> + quantifier\n",
    "\n",
    "text = \"This is an important announcement\"\n",
    "\n",
    "pattern = r'important+'\n",
    "\n",
    "match = re.search(pattern,text)\n",
    "\n",
    "match"
   ]
  },
  {
   "cell_type": "code",
   "execution_count": 46,
   "id": "64776958",
   "metadata": {},
   "outputs": [
    {
     "name": "stdout",
     "output_type": "stream",
     "text": [
      "Found:important\n"
     ]
    }
   ],
   "source": [
    "\n",
    "\n",
    "text = \"This is an important announcement\"\n",
    "\n",
    "# Make the word t as optional in the word important\n",
    "\n",
    "pattern = r'importan?t'\n",
    "\n",
    "match = re.search(pattern,text)\n",
    "\n",
    "if match:\n",
    "    print(f\"Found:{match.group()}\")\n",
    "else:\n",
    "    print(\"not Found!\")"
   ]
  },
  {
   "cell_type": "markdown",
   "id": "37db8ec9",
   "metadata": {},
   "source": [
    "### Replace phone numbers(with sub)"
   ]
  },
  {
   "cell_type": "code",
   "execution_count": 51,
   "id": "6de256f9",
   "metadata": {},
   "outputs": [
    {
     "data": {
      "text/plain": [
       "'My numbers are +91-xxx-xxx-xxxx and xxx-xxx-xxxx.'"
      ]
     },
     "execution_count": 51,
     "metadata": {},
     "output_type": "execute_result"
    }
   ],
   "source": [
    "text = \"My numbers are +91-987-456-7890 and 987-674-3210.\"\n",
    "\n",
    "pattern = r'\\d{3}-\\d{3}-\\d{4}'  # This is a pattern that hiw we want to print\n",
    "\n",
    "re.sub(pattern,\"***-***-****\",text)  # Convert digit into \"*\", for privacy(not every thing visible), like Hashing\n",
    "\n",
    "\n",
    "re.sub(pattern,\"xxx-xxx-xxxx\",text)\n",
    "#re.sub(pattern,\"123-456-7890\",text)\n",
    "\n",
    "#re.sub(pattern,text)"
   ]
  },
  {
   "cell_type": "markdown",
   "id": "7700c657",
   "metadata": {},
   "source": [
    "# Extract email address with findall"
   ]
  },
  {
   "cell_type": "code",
   "execution_count": 54,
   "id": "19255ea4",
   "metadata": {},
   "outputs": [
    {
     "name": "stdout",
     "output_type": "stream",
     "text": [
      "['Support@fwai.com', 'admin@fwai.com']\n"
     ]
    }
   ],
   "source": [
    "text = \"Contact us using the support mail Support@fwai.com or admin@fwai.com\"\n",
    "\n",
    "#Pattern : match email addresses :\n",
    "\n",
    "pattern = r'\\b[A-Za-z0-9]+@[A-Za-z0-9.-]+\\.[A-Za-z]{2,}\\b'\n",
    "\n",
    "emails = re.findall(pattern,text)\n",
    "\n",
    "print(emails)"
   ]
  },
  {
   "cell_type": "markdown",
   "id": "70d3f23a",
   "metadata": {},
   "source": [
    "# Match/Extract any word starting with letter 'a' using findall"
   ]
  },
  {
   "cell_type": "code",
   "execution_count": 59,
   "id": "1e96e8e9",
   "metadata": {},
   "outputs": [
    {
     "data": {
      "text/plain": [
       "['apple', 'a', 'An', 'ant']"
      ]
     },
     "execution_count": 59,
     "metadata": {},
     "output_type": "execute_result"
    }
   ],
   "source": [
    "text = \"apple is a fruit. An ant can run fast.\"\n",
    "\n",
    "pattern = r'\\ba\\w*'\n",
    "\n",
    "re.findall(pattern,text,re.IGNORECASE)"
   ]
  },
  {
   "cell_type": "markdown",
   "id": "e33215c4",
   "metadata": {},
   "source": [
    "# Anchor & Wildcard"
   ]
  },
  {
   "cell_type": "markdown",
   "id": "e63cc0fa",
   "metadata": {},
   "source": [
    "- ^ - specifies the start of the string\n",
    "- $ - Specifies the end of the string"
   ]
  },
  {
   "cell_type": "markdown",
   "id": "8c0df9de",
   "metadata": {},
   "source": [
    "### Validate the password with 'sub' (Replacing invalid characters)\n",
    "\n",
    "A) You need to replace invalid characters in a password that shouldnt contain spaces or special"
   ]
  },
  {
   "cell_type": "code",
   "execution_count": 61,
   "id": "273a5e02",
   "metadata": {},
   "outputs": [
    {
     "data": {
      "text/plain": [
       "'My-password-is-p-ss-word-123'"
      ]
     },
     "execution_count": 61,
     "metadata": {},
     "output_type": "execute_result"
    }
   ],
   "source": [
    "text = \"My password is p@ss word!123\"\n",
    "\n",
    "pattern = r'\\b[^A-Za-z0-9_]'  # ^ --> anchor character for start of the string\n",
    "\n",
    "re.sub(pattern,'-', text)"
   ]
  },
  {
   "cell_type": "markdown",
   "id": "37547ac9",
   "metadata": {},
   "source": [
    "### Extract all digits using 'findall'"
   ]
  },
  {
   "cell_type": "code",
   "execution_count": 63,
   "id": "20ee88cd",
   "metadata": {},
   "outputs": [
    {
     "data": {
      "text/plain": [
       "['10', '3', '5']"
      ]
     },
     "execution_count": 63,
     "metadata": {},
     "output_type": "execute_result"
    }
   ],
   "source": [
    "text = \"there are 10 cats, 3 dogs, 5 birds\"\n",
    "\n",
    "pattern = r'\\d+'\n",
    "\n",
    "re.findall(pattern,text)"
   ]
  },
  {
   "cell_type": "markdown",
   "id": "0f378356",
   "metadata": {},
   "source": [
    "| **Meta Sequence** | **Pattern** | **Equivalent To**               | **Description / Matches**                                |\n",
    "| ----------------- | ----------- | ------------------------------- | -------------------------------------------------------- |\n",
    "| `\\d`              | `\\d`        | `[0-9]`                         | Any single **digit** (0 to 9)                            |\n",
    "| `\\D`              | `\\D`        | `[^0-9]`                        | Any **non-digit** character                              |\n",
    "| `\\w`              | `\\w`        | `[a-zA-Z0-9_]`                  | Any **word character** (letter, digit, underscore)       |\n",
    "| `\\W`              | `\\W`        | `[^a-zA-Z0-9_]`                 | Any **non-word character** (symbol, punctuation, space)  |\n",
    "| `\\s`              | `\\s`        | `[ \\t\\n\\r\\f\\v]`                 | Any **whitespace** character (space, tab, newline, etc.) |\n",
    "| `\\S`              | `\\S`        | `[^ \\t\\n\\r\\f\\v]`                | Any **non-whitespace** character                         |\n",
    "| `\\b`              | `\\b`        | *(no character set equivalent)* | **Word boundary** (between word and non-word characters) |\n",
    "| `\\B`              | `\\B`        | *(no character set equivalent)* | **Non-word boundary** (inside a word)                    |\n"
   ]
  },
  {
   "cell_type": "raw",
   "id": "a26e07b7",
   "metadata": {},
   "source": [
    "Metasequences are special character combinations in regular expressions (regex) that represent predefined patterns. They make it easier to match common types of characters, such as digits, whitespace, or word characters.\n",
    "\n",
    "Think of metasequences as shorthand symbols that tell regex what type of characters to look for.\n",
    "\n"
   ]
  },
  {
   "cell_type": "raw",
   "id": "1f827b8b",
   "metadata": {},
   "source": [
    "# | Metasequence | Meaning                             | Matches                  | Example                                      |\n",
    "| ------------ | ----------------------------------- | ------------------------ | -------------------------------------------- |\n",
    "| `\\d`         | Any digit                           | `0`–`9`                  | `\\d\\d` matches `23`, `99`, `05`              |\n",
    "| `\\D`         | Any **non-digit**                   | letters, symbols         | `\\D+` matches `abc`, `!@#`                   |\n",
    "| `\\w`         | Word character (letter, digit, `_`) | `a–z`, `A–Z`, `0–9`, `_` | `\\w+` matches `Python3`, `data_123`          |\n",
    "| `\\W`         | Non-word character                  | spaces, symbols          | `\\W+` matches `!@# `                         |\n",
    "| `\\s`         | Whitespace                          | space, tab, newline      | `\\s+` matches `\"  \"`, `\"\\t\"`                 |\n",
    "| `\\S`         | Non-whitespace                      | letters, numbers         | `\\S+` matches `hello`, `1234`                |\n",
    "| `\\b`         | Word boundary                       | Between word & non-word  | `\\bdata\\b` matches `\"data\"` not `\"database\"` |\n",
    "| `\\B`         | Non-word boundary                   | Inside a word            | `\\Bend` matches `\"blend\"` or `\"trending\"`    |\n"
   ]
  },
  {
   "cell_type": "markdown",
   "id": "e2886d91",
   "metadata": {},
   "source": [
    "What Are Character Sets in Regex?\n",
    "\n",
    "A character set in regex is a collection of characters enclosed in square brackets [ ], used to match any one character from that set."
   ]
  },
  {
   "cell_type": "raw",
   "id": "39bc4bfd",
   "metadata": {},
   "source": [
    "| **Pattern**   | **What It Matches**                                  | **Example Match**         |\n",
    "| ------------- | ---------------------------------------------------- | ------------------------- |\n",
    "| `[abc]`       | Any one of `a`, `b`, or `c`                          | `a`, `b`, or `c` in `cat` |\n",
    "| `[a-z]`       | Any **lowercase** letter from a to z                 | `f`, `r`, `x`             |\n",
    "| `[A-Z]`       | Any **uppercase** letter from A to Z                 | `G`, `L`, `T`             |\n",
    "| `[0-9]`       | Any **digit** from 0 to 9                            | `4`, `7`, `1`             |\n",
    "| `[a-zA-Z]`    | Any **letter**, upper or lower case                  | `b`, `F`, `m`             |\n",
    "| `[a-zA-Z0-9]` | Any **letter or digit**                              | `H`, `3`, `x`             |\n",
    "| `[^aeiou]`    | Any character **except** vowels                      | `b`, `c`, `x`             |\n",
    "| `[^0-9]`      | Any character **except** a digit                     | `A`, `!`, `#`             |\n",
    "| `[a-dm-p]`    | Any letter from a to d or m to p                     | `a`, `b`, `m`, `o`        |\n",
    "| `[A-F0-9]`    | Any **hexadecimal character**                        | `A`, `B`, `3`, `9`        |\n",
    "| `[.-+]`       | A literal `.`, `-`, or `+` (special characters)      | `.`, `-`, `+`             |\n",
    "| `[\\s]`        | Any whitespace character (space, tab, newline)       | `\" \"`, `\\t`, `\\n`         |\n",
    "| `[\\w]`        | Any word character (`a-z`, `A-Z`, `0-9`, `_`)        | `d`, `8`, `_`             |\n",
    "| `[\\W]`        | Any non-word character (symbols, punctuation, space) | `@`, `#`, `!`             |\n",
    "| `[^\\s]`       | Any non-whitespace character                         | `T`, `5`, `@`             |\n"
   ]
  },
  {
   "cell_type": "code",
   "execution_count": null,
   "id": "622745dc",
   "metadata": {},
   "outputs": [],
   "source": []
  },
  {
   "cell_type": "code",
   "execution_count": null,
   "id": "6d15f4ce",
   "metadata": {},
   "outputs": [],
   "source": []
  }
 ],
 "metadata": {
  "kernelspec": {
   "display_name": "Python 3 (ipykernel)",
   "language": "python",
   "name": "python3"
  },
  "language_info": {
   "codemirror_mode": {
    "name": "ipython",
    "version": 3
   },
   "file_extension": ".py",
   "mimetype": "text/x-python",
   "name": "python",
   "nbconvert_exporter": "python",
   "pygments_lexer": "ipython3",
   "version": "3.11.5"
  }
 },
 "nbformat": 4,
 "nbformat_minor": 5
}
